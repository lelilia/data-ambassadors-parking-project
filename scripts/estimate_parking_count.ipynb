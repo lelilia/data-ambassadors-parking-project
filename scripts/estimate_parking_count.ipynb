{
 "cells": [
  {
   "cell_type": "markdown",
   "id": "d6077b68-d244-4aad-bd04-1d6568631356",
   "metadata": {},
   "source": [
    "# Estimate Parking Capacity based on Alex's Code and Parameters\n",
    "\n",
    "## (UNFINISHED: modified Alex's code and run with QGIS in python console, and produced all the necessary outputs)"
   ]
  },
  {
   "cell_type": "markdown",
   "id": "a19bd51d-bcf4-4914-8dc0-683ad6ccc564",
   "metadata": {},
   "source": [
    "## 0) Imports, settings and notebook utilities"
   ]
  },
  {
   "cell_type": "code",
   "execution_count": 372,
   "id": "d18d10fe-441b-4975-8017-486f984a44c8",
   "metadata": {},
   "outputs": [],
   "source": [
    "import os\n",
    "import geopandas as gpd\n",
    "import geojson\n",
    "import json\n",
    "from OSMPythonTools.nominatim import Nominatim\n",
    "from OSMPythonTools.overpass import Overpass, overpassQueryBuilder\n",
    "from OSMPythonTools.api import Api"
   ]
  },
  {
   "cell_type": "code",
   "execution_count": 373,
   "id": "45f37ea9-41c4-4b0c-bcf1-e7d112b7c7e4",
   "metadata": {},
   "outputs": [],
   "source": [
    "import pandas as pd\n",
    "pd.options.display.max_columns = None\n",
    "pd.options.display.max_rows = None\n",
    "pd.options.display.max_colwidth = 200"
   ]
  },
  {
   "cell_type": "code",
   "execution_count": 374,
   "id": "4ba63f94-3e1e-4c02-9b60-accb2ede07df",
   "metadata": {},
   "outputs": [],
   "source": [
    "import seaborn as sns\n",
    "import matplotlib.pyplot as plt\n",
    "import missingno as msno\n",
    "%matplotlib inline"
   ]
  },
  {
   "cell_type": "code",
   "execution_count": 375,
   "id": "4081491e-c60b-4d30-bd77-46cee35af61f",
   "metadata": {},
   "outputs": [
    {
     "data": {
      "text/html": [
       "<style>\n",
       ".output {\n",
       "    flex-direction: row;\n",
       "}\n",
       "</style>"
      ],
      "text/plain": [
       "<IPython.core.display.HTML object>"
      ]
     },
     "execution_count": 375,
     "metadata": {},
     "output_type": "execute_result"
    }
   ],
   "source": [
    "from IPython.display import display, HTML\n",
    "\n",
    "# utility function to display tables, views, etc side-by-side \n",
    "css = \"\"\"\n",
    ".output {\n",
    "    flex-direction: row;\n",
    "}\n",
    "\"\"\"\n",
    "\n",
    "HTML('<style>{}</style>'.format(css))"
   ]
  },
  {
   "cell_type": "code",
   "execution_count": 376,
   "id": "4abf8e79-9b89-4f15-b879-f8ab6849a23e",
   "metadata": {},
   "outputs": [],
   "source": [
    "df_lor = gpd.read_file(\"../data/raw/friedrichshain-kreuzberg/lor-districts.geojson\")\n",
    "\n",
    "# select only Friedrichshain-Kreuzberg\n",
    "df_lor = (df_lor\n",
    "          .loc[lambda d: d[\"BEZIRKSNAME\"] == \"Friedrichshain-Kreuzberg\"]\n",
    "          .drop(columns=[\"gml_id\", \"RAUMID\"])\n",
    "         )\n",
    "\n",
    "# set as background map \n",
    "def get_lor_map():\n",
    "    bezirk_map = df_lor.explore( \n",
    "        column=\"PLANUNGSRAUM\",  # make choropleth based on \"BoroName\" column\n",
    "        legend=True, # show legend\n",
    "        legend_kwds=dict(colorbar=False), # do not use colorbar\n",
    "        style_kwds=dict(opacity=0.4, fillOpacity=0.4),\n",
    "        name=\"Friedrichshain-Kreuzberg\" # name of the layer in the map\n",
    ")\n",
    "    return bezirk_map"
   ]
  },
  {
   "cell_type": "markdown",
   "id": "d6b4de8e-dc2d-4b6a-be0e-f2437e3afa3d",
   "metadata": {},
   "source": [
    "## 1) OSM street and parking default parameters"
   ]
  },
  {
   "cell_type": "code",
   "execution_count": 377,
   "id": "f51a278f-9e21-4e31-b8a0-09931ed911fc",
   "metadata": {},
   "outputs": [],
   "source": [
    "#default width of streets (if not specified more precisely on the data object)\n",
    "width_minor_street = 11\n",
    "width_primary_street = 17\n",
    "width_secondary_street = 15\n",
    "width_tertiary_street = 13\n",
    "width_service = 4\n",
    "width_driveway = 2.5\n",
    "\n",
    "#default width of parking lanes (if not specified more precisely on the data object)\n",
    "width_para = 2   #parallel parking -----\n",
    "width_diag = 4.5 #diagonal parking /////\n",
    "width_perp = 5   #perpendicular p. |||||\n",
    "\n",
    "#parking space length / distance per vehicle depending on parking direction\n",
    "#TODO: Attention: In some calculation steps that use field calculator formulas, these values are currently still hardcoded – if needed, the formulas would have to be generated as a string using these variables\n",
    "vehicle_dist_para = 5.2     #parallel parking\n",
    "vehicle_dist_diag = 3.1     #diagonal parking (angle: 60 gon = 54°)\n",
    "vehicle_dist_perp = 2.5     #perpendicular parking\n",
    "vehicle_length = 4.4        #average vehicle length (a single vehicle, wwithout manoeuvring distance)\n",
    "vehicle_width = 1.8         #average vehicle width"
   ]
  },
  {
   "cell_type": "code",
   "execution_count": 378,
   "id": "5d532c0c-ebf8-4ecc-860e-2df162463a1c",
   "metadata": {},
   "outputs": [],
   "source": [
    "#list of attributes kept for the street layer\n",
    "#Attention: Certain width specifications are also processed (fillBaseAttributes()), but they should not be specified here.\n",
    "#\"parking:lane:left/right:position\" are new attributes for collecting the parking lane position.\n",
    "#\"error_output\" is a new attribute to collect errors and inconsistencies\n",
    "street_key_list = [\n",
    "'highway',\n",
    "'name',\n",
    "'width_proc',\n",
    "'width_proc:effective',\n",
    "'surface',\n",
    "'parking:lane:left',\n",
    "'parking:lane:right',\n",
    "'parking:lane:left:position',\n",
    "'parking:lane:right:position',\n",
    "'parking:lane:left:width',\n",
    "'parking:lane:right:width',\n",
    "'parking:lane:left:width:carriageway',\n",
    "'parking:lane:right:width:carriageway',\n",
    "'parking:lane:left:offset',\n",
    "'parking:lane:right:offset',\n",
    "'error_output'\n",
    "]"
   ]
  },
  {
   "cell_type": "markdown",
   "id": "67f3f0bb-b73b-4db6-b72b-d0be88a8be5c",
   "metadata": {},
   "source": [
    "## 2) Load relevant datasets"
   ]
  },
  {
   "cell_type": "code",
   "execution_count": 380,
   "id": "807f9a68-74d7-4615-a73a-63fab1b44e43",
   "metadata": {},
   "outputs": [],
   "source": [
    "# parking lanes processes by Alex's script (incomplete)\n",
    "qgis_python_dir = \"../data/raw/friedrichshain-kreuzberg/qgis-python-parking-spot-estimation/\"\n",
    "# df_alex_parking_left = gpd.read_file(\"../data/raw/friedrichshain-kreuzberg/qgis-python-parking-spot-estimation/data/parking_lanes/parking_lanes_left.geojson\")\n",
    "# df_alex_parking_right = gpd.read_file(\"../data/raw/friedrichshain-kreuzberg/qgis-python-parking-spot-estimation/data/parking_lanes/parking_lanes_left.geojson\")\n",
    "# df_alex_parking_lanes = df_alex_parking_left.append(df_alex_parking_right)"
   ]
  },
  {
   "cell_type": "code",
   "execution_count": 381,
   "id": "05c295cc-52b7-425e-96a4-83adf6b62b80",
   "metadata": {},
   "outputs": [],
   "source": [
    "# actual parking data in OSM\n",
    "df_parking = gpd.read_file(\"../data/raw/friedrichshain-kreuzberg/OSM_area-FK_amenity-parking_out-geom.geojson\")"
   ]
  },
  {
   "cell_type": "code",
   "execution_count": 382,
   "id": "65ca0866-7bba-4f03-a0ae-ed4cc3733d78",
   "metadata": {},
   "outputs": [],
   "source": [
    "# F-K street lanes processed by Alex's script\n",
    "df_streets = gpd.read_file(\"../data/raw/friedrichshain-kreuzberg/qgis-python-parking-spot-estimation/data/streets_processed.geojson\")"
   ]
  },
  {
   "cell_type": "code",
   "execution_count": 385,
   "id": "d0003e30-8d3b-45dd-9b04-e47b01573ee1",
   "metadata": {},
   "outputs": [],
   "source": [
    "# F-K crossings (crubs intersections, traffic lights, driveways, pedestrian crossings) processed by Alex's script\n",
    "# df_crossings = gpd.read_file(\"../data/raw/friedrichshain-kreuzberg/qgis-python-parking-spot-estimation/data/crossing.geojson\")"
   ]
  },
  {
   "cell_type": "code",
   "execution_count": 386,
   "id": "33be7ed3-233c-4d10-a39d-9c22152e14b7",
   "metadata": {},
   "outputs": [],
   "source": [
    "# NK parking lanes processed by Alex's script (complete + some areas in Kreuzberg)\n",
    "df_neukolln = gpd.read_file(\"../data/raw/neukoelln/parking_way.geojson\")"
   ]
  },
  {
   "cell_type": "code",
   "execution_count": 387,
   "id": "9b015d72-2299-4a50-a6a5-1ad93632557f",
   "metadata": {},
   "outputs": [],
   "source": [
    "# Bezriksamt parking spot count (incomplete)\n",
    "df_bezirksamt = gpd.read_file(\"../data/raw/friedrichshain-kreuzberg/counted_parking-fk.geojson\")"
   ]
  },
  {
   "cell_type": "markdown",
   "id": "fc9ba304-5e59-4b24-9660-af277e47ad0b",
   "metadata": {},
   "source": [
    "## 3) Explore parking lane datasets\n",
    " - **OSM (amenity=parking)** `OSM_area-FK_amenity-parking_out-geom.geojson` **(LABEL: OSM-PARKING)**\n",
    " - **Alex's estimation of parking lanes based on street info from OSM** `parking_lanes_left.geojson` and `parking_lanes_right.geojson` **(LABEL: ALEX-FK-PARKING)**\n",
    " - **Alex's Neukolln data (contains some LORs in Kreuzberg)** `parking_way.geojson` **(LABEL: ALEX-NK-PARKING)**\n",
    " - **Bezirksamt** `counted_parking-fk.geojson` **(LABEL: BEZIRKSAMT)**"
   ]
  },
  {
   "cell_type": "markdown",
   "id": "f5f00cfc-df60-4b29-8509-16ed0f7e8014",
   "metadata": {},
   "source": [
    "### A) OSM-PARKING\n",
    "- very incomplete info on parking lanes (mainly Reichenbergerstr.) \n",
    "- some information about parking type and orientation\n",
    "- bearly no info on capacity\n",
    "- a lot of missing data"
   ]
  },
  {
   "cell_type": "code",
   "execution_count": null,
   "id": "7248b053-bafa-46aa-bd7c-b534c39b50c8",
   "metadata": {},
   "outputs": [],
   "source": [
    "df_parking = (df_parking\n",
    "              # drop cols with more than 100 (out of 950) null values \n",
    "              .dropna(thresh=100, axis=1)\n",
    "              # only parking on lanes\n",
    "              .loc[lambda d: d[\"parking\"].isin(['street_side', 'lane'])]\n",
    "             )"
   ]
  },
  {
   "cell_type": "code",
   "execution_count": null,
   "id": "84d19f45-c469-4adb-96ab-f8250b17e744",
   "metadata": {},
   "outputs": [],
   "source": [
    "_ = msno.bar(df_parking)"
   ]
  },
  {
   "cell_type": "code",
   "execution_count": null,
   "id": "e6a5093c-09ef-422a-a042-22e8736a8d94",
   "metadata": {},
   "outputs": [],
   "source": [
    "df_parking.explore(m=get_lor_map())"
   ]
  },
  {
   "cell_type": "markdown",
   "id": "c5bcdb47-4672-46ae-90ec-88eb70fc9fd4",
   "metadata": {},
   "source": [
    "### B) ALEX-FK-PARKING\n",
    "- it covers a bit less than 2/3 of the district\n",
    "- not too many missing values (at least for relevant columns)\n",
    "- almost no info on parking capacity\n",
    "- `capacity` and `highway:name` are strongly inversely correlated (see missingness pattern below). strange.\n",
    "- most streets are `residential` and most parking spots are `parallel`"
   ]
  },
  {
   "cell_type": "code",
   "execution_count": null,
   "id": "1997f90f-a55c-4e26-b84f-b3afdba6dfe1",
   "metadata": {},
   "outputs": [],
   "source": [
    "_ = msno.matrix(df_alex_parking_lanes)"
   ]
  },
  {
   "cell_type": "code",
   "execution_count": null,
   "id": "f2912b2d-7d81-41c3-8160-dc49d937e4b3",
   "metadata": {},
   "outputs": [],
   "source": [
    "_ = msno.heatmap(df_alex_parking_lanes)"
   ]
  },
  {
   "cell_type": "code",
   "execution_count": null,
   "id": "919864fa-52f6-4fbf-af06-37ef89bd657d",
   "metadata": {},
   "outputs": [],
   "source": [
    "df_alex_parking_lanes.explore(m=get_lor_map())"
   ]
  },
  {
   "cell_type": "code",
   "execution_count": null,
   "id": "ca663c0b-4b29-47fd-897c-7f1520820118",
   "metadata": {},
   "outputs": [],
   "source": [
    "df_alex_parking_lanes.groupby([\"highway\", \"orientation\", \"parking\"]).size().to_frame()"
   ]
  },
  {
   "cell_type": "code",
   "execution_count": null,
   "id": "77315a8d-4391-479e-81c1-b3508a1026c8",
   "metadata": {},
   "outputs": [],
   "source": [
    "g = sns.catplot(x=\"highway\", hue=\"orientation\", col=\"parking\",\n",
    "                data=df_alex_parking_lanes, saturation=.5,\n",
    "                kind=\"count\", ci=None, aspect=1., height=8)"
   ]
  },
  {
   "cell_type": "markdown",
   "id": "30daf58e-c447-433f-bb5e-d970db168249",
   "metadata": {},
   "source": [
    "### C) ALEX-NK-PARKING\n",
    "- very compelte data (at least on relevant columns)\n",
    "- only data on Reichenbergerstr., Graefekiez, Chamissokiez\n",
    "- parking spot measurements are reglamentary (see parameters above) both when the parkign spot are `estimated` or pulled from `OSM`\n",
    "- parking on lanes/street only\n",
    "- most streets are `residential`\n",
    "- parking is mostly `parallel` and on `residential` streets\n",
    "- there's a lot of `p[erpendicular` parking on `living_street` (residential but when the pedestrian has priiority)\n"
   ]
  },
  {
   "cell_type": "code",
   "execution_count": null,
   "id": "154824bd-2153-4bdb-8504-8155b99173d7",
   "metadata": {},
   "outputs": [],
   "source": [
    "# extract F-K parts only\n",
    "df_neukolln  = (df_neukolln\n",
    "                .sjoin(df_lor, how=\"inner\")\n",
    "                .drop(columns=\"index_right\")\n",
    "                # .to_crs(\"EPSG:25833\")\n",
    "                .loc[:, df_neukolln.columns]\n",
    "               )"
   ]
  },
  {
   "cell_type": "code",
   "execution_count": null,
   "id": "96205cf4-e886-464e-9153-4af5134c458e",
   "metadata": {},
   "outputs": [],
   "source": [
    "_ = msno.matrix(df_neukolln)"
   ]
  },
  {
   "cell_type": "code",
   "execution_count": null,
   "id": "7caa7d84-dc73-42a2-8718-22f5dbc55d45",
   "metadata": {},
   "outputs": [],
   "source": [
    "df_neukolln.explore(m=get_lor_map())"
   ]
  },
  {
   "cell_type": "code",
   "execution_count": null,
   "id": "5ebc5afa-e46c-499c-8003-6fe52d43d8e0",
   "metadata": {},
   "outputs": [],
   "source": [
    "df_neukolln[\"length_per_spot\"] = df_neukolln[\"length\"] / df_neukolln[\"capacity\"]"
   ]
  },
  {
   "cell_type": "code",
   "execution_count": null,
   "id": "05eb468e-c1c1-4007-8582-3363a6245a2b",
   "metadata": {},
   "outputs": [],
   "source": [
    "df_neukolln.loc[:, [\"parking\", \"orientation\", \"position\", \"capacity\", \"length\", \"length_per_spot\"]].head(8)"
   ]
  },
  {
   "cell_type": "code",
   "execution_count": null,
   "id": "20a7dbb2-00c2-429e-ab11-2fbad108b462",
   "metadata": {},
   "outputs": [],
   "source": [
    "g = sns.catplot(x=\"orientation\", y=\"length_per_spot\", col=\"source:capacity\",\n",
    "                data=df_neukolln, saturation=.5,\n",
    "                kind=\"bar\", ci=None, aspect=1., height=8)"
   ]
  },
  {
   "cell_type": "code",
   "execution_count": null,
   "id": "3a042562-4492-46a6-9600-b5f7539589df",
   "metadata": {},
   "outputs": [],
   "source": [
    "df_neukolln.groupby([\"highway\", \"orientation\", \"parking\"]).size().to_frame()"
   ]
  },
  {
   "cell_type": "code",
   "execution_count": null,
   "id": "8b290c8e-fd34-4b53-808d-7e3f5f03136c",
   "metadata": {},
   "outputs": [],
   "source": [
    "g = sns.catplot(x=\"highway\", hue=\"orientation\", col=\"parking\",\n",
    "                data=df_neukolln, saturation=.5,\n",
    "                kind=\"count\", ci=None, aspect=1., height=8)"
   ]
  },
  {
   "cell_type": "markdown",
   "id": "740b0d9e-de3b-4a6e-9267-8fe33e503513",
   "metadata": {},
   "source": [
    "## D) BEZIRKSAMT\n",
    "- `laenge` and `anzahl` values are a lot of times off: more than 50% of the data have unrealistic measurements of parking spot lengths (> 6.1m)\n",
    "- the other 50% has variables sizes: there is no info on parking orientation, so we can't know if these sizes \"make sense\"\n",
    "- mostly types `OE_O_EIN` and `OE_KOSTENPF`"
   ]
  },
  {
   "cell_type": "code",
   "execution_count": null,
   "id": "d05e97b4-3c4f-40b3-9f7d-55ee1f3255db",
   "metadata": {},
   "outputs": [],
   "source": [
    "df_bezirksamt.head()"
   ]
  },
  {
   "cell_type": "code",
   "execution_count": null,
   "id": "a1a686b5-7838-4408-8eab-075f05456c7a",
   "metadata": {},
   "outputs": [],
   "source": [
    "df_bezirksamt[\"length_per_spot\"] = (df_bezirksamt[\"laenge\"] / df_bezirksamt[\"anzahl\"]).replace(np.inf, np.nan)"
   ]
  },
  {
   "cell_type": "code",
   "execution_count": null,
   "id": "bc0cb533-b455-4fbc-9c15-4b07b7700bd1",
   "metadata": {},
   "outputs": [],
   "source": [
    "df_bezirksamt[\"length_per_spot\"].describe().to_frame()"
   ]
  },
  {
   "cell_type": "code",
   "execution_count": null,
   "id": "4c003647-800c-443c-b350-bac798062980",
   "metadata": {},
   "outputs": [],
   "source": [
    "import numpy as np\n",
    "_ = df_bezirksamt[\"length_per_spot\"].plot(kind=\"hist\", bins=100, figsize=(14, 8), title=\"Estimated parking spot lengths\")"
   ]
  },
  {
   "cell_type": "code",
   "execution_count": null,
   "id": "0a4edc4d-85a7-4665-9431-9e76f4b6ef90",
   "metadata": {},
   "outputs": [],
   "source": [
    "g = sns.FacetGrid(df_bezirksamt, col=\"klassennam\", col_wrap=4, height=4, aspect=1.5, ylim=(0, 100))\n",
    "_ = g.map(sns.histplot, \"anzahl\")"
   ]
  },
  {
   "cell_type": "markdown",
   "id": "ba32545b-7ccd-43cf-bdf1-8f281d386433",
   "metadata": {},
   "source": [
    "## 3) Crossings, Driveways and Streets of Friedrichshain-Kreuzberg\n",
    "\n",
    "#### Crossings\n",
    "- a lot of missing values in crossings: set threshold to 15 non-null datapoints, and we end up with 25 columns (se barplot below)\n",
    "- it does not matter too much since we only need the type of highway and its geometry, and those columns have no missing data\n",
    "- the data seems to cover all crossing in the district \n",
    "- keep only highways of type `crossing`\n",
    "\n",
    "#### Driveways\n",
    "- same as crossings, it seems to corver all the driveways in the district\n",
    "- keep only highways of type `driveways`\n",
    "- get only the intersecctions (points) of driveways and streets\n",
    "\n",
    "#### Intersections\n",
    "- full network of street lanes of the district\n",
    "- get the intersections of the lanes (way) in the network: usually way object start and end at intersections, but not always.\n"
   ]
  },
  {
   "cell_type": "code",
   "execution_count": null,
   "id": "a78389e5-f00a-4650-bdb9-a553e7693a87",
   "metadata": {},
   "outputs": [],
   "source": [
    "_ = msno.matrix(df_crossings)"
   ]
  },
  {
   "cell_type": "code",
   "execution_count": null,
   "id": "2fb22393-a2f2-4ba3-beb2-613f461df3c0",
   "metadata": {},
   "outputs": [],
   "source": [
    "df_crossings = df_crossings.dropna(thresh=15, axis=1)\n",
    "_ = msno.bar(df_crossings)"
   ]
  },
  {
   "cell_type": "code",
   "execution_count": null,
   "id": "24d280c6-e077-4a2e-9b23-9fc7152ed37d",
   "metadata": {},
   "outputs": [],
   "source": [
    "df_crossings.filter(regex=\"highway|crossing|crossing|kerb|traffic_signal\").apply(lambda x: pd.Series(x.unique())).fillna(\"-\")"
   ]
  },
  {
   "cell_type": "code",
   "execution_count": null,
   "id": "71cc6751-8ab7-4cd4-a6c1-ad81c4a6d5ca",
   "metadata": {},
   "outputs": [],
   "source": [
    "df_crossings = df_crossings.loc[lambda d: d[\"highway\"] == \"crossing\"]"
   ]
  },
  {
   "cell_type": "code",
   "execution_count": null,
   "id": "804cf2e1-ea87-4fcb-831e-035bb8b17851",
   "metadata": {},
   "outputs": [],
   "source": [
    "crossings_map = df_crossings.explore(column=\"highway\")\n",
    "df_streets.explore(m=crossings_map, color=\"grey\")"
   ]
  },
  {
   "cell_type": "code",
   "execution_count": null,
   "id": "0aa2af9f-14fb-44cb-85ec-d25132cb71be",
   "metadata": {},
   "outputs": [],
   "source": [
    "df_services = gpd.read_file(\"../data/raw/friedrichshain-kreuzberg/qgis-python-parking-spot-estimation/data/service_processed.geojson\")\n",
    "df_services.head(2)"
   ]
  },
  {
   "cell_type": "code",
   "execution_count": null,
   "id": "16993085-eb85-4e74-bb05-14986dc267b9",
   "metadata": {},
   "outputs": [],
   "source": [
    "df_driveways = df_services.loc[lambda d: d[\"highway\"] == \"service\"].overlay(df_streets, how='intersection', keep_geom_type=False)"
   ]
  },
  {
   "cell_type": "code",
   "execution_count": null,
   "id": "b41871f1-18c9-4fe2-815a-58771092fc6d",
   "metadata": {},
   "outputs": [],
   "source": [
    "df_driveways.head()"
   ]
  },
  {
   "cell_type": "code",
   "execution_count": null,
   "id": "e4635d38-cb5c-4c8f-ad82-06d528ad639c",
   "metadata": {},
   "outputs": [],
   "source": [
    "df_driveways.explore()"
   ]
  },
  {
   "cell_type": "code",
   "execution_count": null,
   "id": "943e5357-19e3-4f5f-ae27-8369ee058034",
   "metadata": {},
   "outputs": [],
   "source": [
    "df_intersections = df_streets.overlay(df_streets, how=\"intersection\", keep_geom_type=False)"
   ]
  },
  {
   "cell_type": "code",
   "execution_count": null,
   "id": "0cd95e9d-05d4-48b6-81e0-9cb60d30fa53",
   "metadata": {},
   "outputs": [],
   "source": [
    "df_intersections.explore()"
   ]
  },
  {
   "cell_type": "markdown",
   "id": "7762c705-72e3-4e35-9cc9-890ad30e3613",
   "metadata": {},
   "source": [
    "## 4) \n",
    "- one is not allowed to park at least 3 meters from a crossing\n",
    "- one is not allowed to park in front of a driveway (driveways are usually 2.5m wide)\n",
    "- there is no parking space on intersections (use street type dimensions in the parameters above)"
   ]
  },
  {
   "cell_type": "code",
   "execution_count": null,
   "id": "d7eefd3b-6c53-44ad-8a2a-20a48b2ad3bf",
   "metadata": {},
   "outputs": [],
   "source": [
    "df_crossings[\"geometry\"] = df_crossings[\"geometry\"].buffer(9.85)"
   ]
  },
  {
   "cell_type": "code",
   "execution_count": null,
   "id": "1b39347a-b6fd-43d7-b83d-73c2bf50a60d",
   "metadata": {},
   "outputs": [],
   "source": [
    "d3 = df_streets.overlay(df_crossings, how=\"difference\")"
   ]
  },
  {
   "cell_type": "code",
   "execution_count": null,
   "id": "9e87027a-930c-47a6-a867-48e8fffd33dc",
   "metadata": {},
   "outputs": [],
   "source": [
    "d3.explore()"
   ]
  },
  {
   "cell_type": "code",
   "execution_count": null,
   "id": "1cd968b3-b4e7-425b-8689-9b696439341a",
   "metadata": {},
   "outputs": [],
   "source": [
    "df = gpd.read_file(\"/Users/nat/Downloads/data/parking_lanes.geojson\")"
   ]
  },
  {
   "cell_type": "code",
   "execution_count": null,
   "id": "d35b6d22-2dae-4f09-9bb8-259f10d74a3a",
   "metadata": {},
   "outputs": [],
   "source": [
    "parking_map = df.explore(color=\"grey\")"
   ]
  },
  {
   "cell_type": "code",
   "execution_count": null,
   "id": "424a5851-28ec-4835-947a-3a2a26b85ce1",
   "metadata": {},
   "outputs": [],
   "source": [
    "df1 = gpd.read_file(\"/Users/nat/Downloads/data/parking_kfz.geojson\")"
   ]
  },
  {
   "cell_type": "code",
   "execution_count": null,
   "id": "dc3d2501-7ff7-4f13-a352-f663fedc4c9f",
   "metadata": {},
   "outputs": [],
   "source": [
    "df1.explore(m=parking_map, color=\"red\")"
   ]
  },
  {
   "cell_type": "code",
   "execution_count": null,
   "id": "9c39d4f4-3eb5-4443-bc0c-1caf5428234a",
   "metadata": {},
   "outputs": [],
   "source": [
    "msno.matrix(df)"
   ]
  },
  {
   "cell_type": "code",
   "execution_count": null,
   "id": "ea31cd97-0691-4188-8324-40ef59937a40",
   "metadata": {},
   "outputs": [],
   "source": []
  }
 ],
 "metadata": {
  "kernelspec": {
   "display_name": "dssg-bezirk-perken",
   "language": "python",
   "name": "dssg-bezirk-perken"
  },
  "language_info": {
   "codemirror_mode": {
    "name": "ipython",
    "version": 3
   },
   "file_extension": ".py",
   "mimetype": "text/x-python",
   "name": "python",
   "nbconvert_exporter": "python",
   "pygments_lexer": "ipython3",
   "version": "3.9.7"
  }
 },
 "nbformat": 4,
 "nbformat_minor": 5
}
